{
  "cells": [
    {
      "cell_type": "code",
      "execution_count": null,
      "metadata": {
        "id": "G7dwA_z_EYex"
      },
      "outputs": [],
      "source": [
        "## importamos algumas bibliotecas que serão usadas\n",
        "import numpy as np  # Para um mínimo de matemática\n",
        "import matplotlib.pyplot as plt # Para gráficos\n",
        "from matplotlib.gridspec import GridSpec\n",
        "import sys\n",
        "import math\n"
      ]
    },
    {
      "cell_type": "markdown",
      "metadata": {
        "id": "WDIqGicPYNJ3"
      },
      "source": [
        "# MAP0214 - EP1: Zeros de funções e Sistemas Lineares\n"
      ]
    },
    {
      "cell_type": "markdown",
      "metadata": {
        "id": "DbRiXO7aiX9b"
      },
      "source": [
        "**Nome:**\n",
        "\n",
        "**Número USP:**\n",
        "\n",
        "**Turma:**"
      ]
    },
    {
      "cell_type": "markdown",
      "metadata": {
        "id": "G8Qd2l61Yo_O"
      },
      "source": [
        "<p align = \"justify\">O objetivo deste Exercício-Programa (EP) é o de implementar métodos de resolução numérica para encontrar pontos de mínimo, máximo ou sela (pontos extremais), de uma função de várias variáveis:\n",
        "\\begin{equation}\n",
        "  V = V(x_1,\\cdots,x_n), (x_1,\\cdots,x_n) \\in \\mathbb{R}^n\n",
        "  \\tag{1}\n",
        "\\end{equation}\n",
        "Este é um problema bastante comum na área de otimização, e possui diversas aplicações em, por exemplo, engenharia, finanças, etc. Na física, problemas de otimização também são extremamente comuns, dado que as leis da física podem ser, em geral, escritas como as condições em que algum funcional escalar seja minimizado. Vamos abordar este aspecto no presente exercício.\n",
        "\n",
        "A minimização de um funcional $V=V(x_1,\\cdots,x_n)$ pode parecer desconexo com o que foi visto em sala (o de se encontrar zeros de funções). Porém, a partir deste problema de otimização, podemos estabelecer um sistema de equações (não-lineares) em que todas devem ser anuladas. Para ver isto, podemos nos lembrar que, para que o funcional $V$ seja extremal, devemos ter, necessariamente que o seu gradiente:\n",
        "\\begin{equation}\n",
        "    f_i(x_1,\\cdots,x_n) = \\frac{\\partial V}{\\partial x_i} (x_1,\\cdots,x_n)\n",
        "    \\tag{2}\n",
        "\\end{equation}\n",
        "se anule. Logo, podemos reescrever o problema de otimização como o de se encontrar um ponto $(x_1^*,\\cdots,x_n^*)$ tal que as funções $f_i$ se anulam:\n",
        "\\begin{equation}\n",
        "    f_i(x_1^*,\\cdots,x_n^*) = \\frac{\\partial V}{\\partial x_i} (x_1^*,\\cdots,x_n^*) = 0\n",
        "    \\tag{3}\n",
        "\\end{equation}\n",
        "Isto é uma generalização do problema visto em sala de aula, em que encontrávamos o zero de apenas uma função, de apenas uma variável, $f(x)=0$.\n",
        "\n",
        "Notamos que, para a realização desta tarefa, também serão cobrados algoritmos de resolução de sistemas lineares, que é o assunto do segundo bloco de aulas do curso.\n",
        "\n",
        "\n",
        "**Orientações:**\n",
        "- Salve uma cópia deste notebook para editá-lo.\n",
        "- Utilize o índice à esquerda para identificar as questões que precisam ser respondidas.\n",
        "- As respostas das questões deverão ser respondidas nos espaços indicados abaixo.\n",
        "- Envie o link do seu notebook na página de entrega da atividade no Moodle da disciplina."
      ]
    },
    {
      "cell_type": "markdown",
      "metadata": {
        "id": "YB2z3hUXiF5B"
      },
      "source": [
        "<font color='red'>\n",
        "IMPORTANTE: os problemas descritos neste EP depende de parâmetros escolhidos em função de seu número USP.\n",
        "\n",
        "Complete e rode a célula abaixo para obter esses parâmetros.\n",
        "</font>\n",
        "\n"
      ]
    },
    {
      "cell_type": "code",
      "source": [
        "# NUSP, escrito como uma lista\n",
        "# exemplo, NUSP = 12345678\n",
        "NUSP = [1,2,3,4,5,6,7,8]"
      ],
      "metadata": {
        "id": "gQ5L5iJha_Kw"
      },
      "execution_count": null,
      "outputs": []
    },
    {
      "cell_type": "markdown",
      "metadata": {
        "id": "VRR6y81zxEud"
      },
      "source": [
        "#Parte 1 - Formulação do problema\n"
      ]
    },
    {
      "cell_type": "markdown",
      "metadata": {
        "id": "f8ZwmEX7xK3j"
      },
      "source": [
        "## Otimização Não-Linear: Método de Newton\n",
        "\n",
        "Vamos considerar primeiramente o problema genérico da minimização de uma função $V=V(x_1,\\cdots,x_n)$. Vimos que toda solução deste problema anula o gradiente da função, e portanto vamos reescrevê-lo como o de se encontrar zero do conjunto de funcoes $f_i(x_1^*,\\cdots,x_n^*)$ apresentado nas equações (3).\n",
        "\n",
        "Para isto, vamos utilizar um método iterativo de ponto-fixo. Isto é, vamos construir uma sequência (na variável vetorial $\\mathbf{x}=(x_1,\\cdots,x_n)$), $\\{\\mathbf{x}_k\\}_{k=0}^{\\infty}$ tal que:\n",
        "\\begin{equation}\n",
        "  \\mathbf{x}_k = \\phi(\\mathbf{x}_{k-1})\n",
        "\\end{equation}\n",
        "para alguma escolha de $\\mathbf{x}_0$.\n",
        "\n",
        "Várias possibilidades existem para a escolha da função:\n",
        "\\begin{equation}\n",
        "  \\phi: \\mathbb{R}^n \\rightarrow \\mathbb{R}^n\n",
        "\\end{equation}\n",
        "Podemos ver que o problema da determinação de $\\phi$ tal que a sequência converge é, neste caso multi-dimensional, consideravelmente mais difícil do que anteriormente. Podemos citar, num primeiro momento, métodos de descida/subida de gradiente, em que, para um ponto $\\mathbf{x}_{k-1}$, vamos calcular o gradiente:\n",
        "\\begin{equation}\n",
        "  \\nabla_{\\mathbf{x}} V(\\mathbf{x}_{k-1}) = (f_1(\\mathbf{x}_{k-1}),\\cdots,f_n(\\mathbf{x}_{k-1}))\n",
        "\\end{equation}\n",
        "e tomar o próximo ponto da sequência como sendo o ponto anterior $\\mathbf{x}_{k-1}$ mais uma contribuição na direção do gradiente, dado que este é o vetor que \"mais altera\" a função $V$. A descida/subida do gradiente se escreve, portanto, como:\n",
        "\\begin{equation}\n",
        "  \\mathbf{x}_k = \\mathbf{x}_{k-1} + \\alpha_{k-1} \\nabla_{\\mathbf{x}} V(\\mathbf{x}_{k-1}) = \\phi(\\mathbf{x}_{k-1})\n",
        "\\end{equation}\n",
        "onde, em geral, o parâmetro $\\alpha_{k-1}$ é estimado, a cada iteração, de modo a garantir a convergência da sequência para (um) ponto extremal $\\mathbf{x}^*=(x_1^*,\\cdots,x_n^*)$.\n",
        "\n",
        "A determinação deste parâmetro, a cada iteração, envolve muita tecnologia, e é assunto de cursos mais avançados de otimização não-linear. Por esta razão, nneste exercício não vamos abordar este aspecto. Ao invés disso, vamos extender o método de Newton, utilizando a sua interpretação geométrica. Para problemas uni-dimensionais (ou seja, encontrar o zero de $f(x)$), aproximamos a função $f(x)$ em torno de $x_{k-1}$ por uma reta $(y-f(x_{k-1}))=f'(x_{k-1})(x-x_{k-1})$ e definimos $x_k$ como sendo o ponto em que esta reta se anula. Em casos multi-dimensionais, vamos tomar um raciocínio análogo para cada função $f_i(\\mathbf{x})$, ou seja, vamos impor que cada hiper-plano:\n",
        "\\begin{equation}\n",
        "  (y_i-f_i(\\mathbf{x}_{k-1})) = \\nabla^T_\\mathbf{x} f_i (\\mathbf{x}_{k-1}) \\cdot (\\mathbf{x} - \\mathbf{x}_{k-1}), i=1,\\cdots,n\n",
        "\\end{equation}\n",
        "se anule, ou seja, $y_i=0$. Se definirmos a matriz Jacobiana:\n",
        "\\begin{equation}\n",
        "  J_{k-1} = (\\nabla_\\mathbf{x} f_1 (\\mathbf{x}_{k-1}),\\cdots , \\nabla_\\mathbf{x} f_n (\\mathbf{x}_{k-1}) )^T\n",
        "\\end{equation}\n",
        "Vemos que o ponto $\\mathbf{x}_{k}$ é dado, matricialmente, por:\n",
        "\\begin{equation}\n",
        "  \\mathbf{x}_{k} = \\mathbf{x}_{k-1} - J_k^{-1} f(\\mathbf{x}_{k-1})\n",
        "  \\tag{4}\n",
        "\\end{equation}\n",
        "\n",
        "Repare que este método de Newton generalizado pode ser definido e utilizado para encontrarmos o zero de qualquer função vetorial, independentemente da existência de um problema de otimização associado. Se este for o caso, podemos reescrever a equação 4 como:\n",
        "\\begin{equation}\n",
        "  \\mathbf{x}_{k} = \\mathbf{x}_{k-1} - H_{k-1}^{-1} \\nabla_\\mathbf{x} V(\\mathbf{x}_{k-1})\n",
        "  \\tag{5}\n",
        "\\end{equation}\n",
        "onde $H_{k-1} = \\nabla_\\mathbf{x} \\nabla_\\mathbf{x} V(\\mathbf{x}_{k-1})$ é a cahamada matriz Hessiana de $V$.\n",
        "\n",
        "Aqui, devemos também perceber que a determinação de $\\mathbf{x}_k$ em função de $\\mathbf{x}_{k-1}$ passa pela resolução de um sistema linear, dado por:\n",
        "\n",
        "\\begin{equation}\n",
        "  H_{k-1} \\delta \\mathbf{x}_k = \\nabla_\\mathbf{x} V(\\mathbf{x}_{k-1})\n",
        "  \\tag{6}\n",
        "\\end{equation}\n",
        "\n",
        "Por isto, neste exercício, não são apenas cobrados conceitos de zero de funções, mas também de resolução de sistemas lineares, por eliminação de Gauss.\n",
        "\n",
        "Finalmente, a iteração se escreve como:\n",
        "\\begin{equation}\n",
        "  \\mathbf{x}_{k} = \\mathbf{x}_{k-1} - \\delta \\mathbf{x}_k\n",
        "  \\tag{7}\n",
        "\\end{equation}\n",
        "\n"
      ]
    },
    {
      "cell_type": "markdown",
      "metadata": {
        "id": "DN6jN6TJclwF"
      },
      "source": [
        "## Equilíbrio de sistemas\n",
        "\n",
        "Vamos considerar o problema de se encontrar estados de equilíbrio de um sistema de partículas. Mais especificamente, vamos considerar $n$ cargas elétricas livres para se mover, sem atrito, dentro de um tubo. Este tubo tem comprimento $L$, de maneira que uma de suas extremidades pode ser posicionada em $x=0$ e a outra em $x=L$. A posição de cada uma das cargas no interior do tubo é dada por $\\{x_i\\}_{i=1}^n$, e cada uma destas partículas têm carga $\\{q_i\\}_{i=1}^n$. Na extremidades do tubo são também posicionadas (e fixadas) duas cargas, com:\n",
        "$$ x_0 = 0, q_0, \\;\\;\\; e \\;\\;\\; x_{n+1} = L, q_{n+1} $$\n",
        "\n",
        "A energia potencial eletrostática entre duas partículas é dada por:\n",
        "\n",
        "\\begin{equation}\n",
        "  U_{i,j} = U_{i,j} (x_j - x_i) = - k \\frac{q_i q_j}{x_j - x_i}\n",
        "  \\tag{8}\n",
        "\\end{equation}\n",
        "\n",
        "A energia potencial total do sistema pode ser entendida como a soma de todas as interações dois-a-dois (não repetidas) entre todas as partículas. Porém, para a simplificação do problema, vamos considerar que interações entre partículas \"não-vizinhas\" são desprezíveis, fazendo com que a enegia total seja apenas:\n",
        "\n",
        "\\begin{equation}\n",
        "  V = V(x_1,\\cdots,x_n) = U_{0,1}(x_1-x_0) + U_{1,2}(x_2-x_1) + \\cdots + U_{n-1,n}(x_n-x_{n-1}) + U_{n,n+1}(x_{n+1}-x_n)\n",
        "  \\tag{9}\n",
        "\\end{equation}\n",
        "\n",
        "Desejamos encontrar a posição das cargas do interior $(x_1,\\cdots,x_n)$ tal que $V = V(x_1,\\cdots,x_n)$ seja extremal. Repare que devemos considerar a influência das cargas das extremidades do tubo para que as cargas em seu interior \"não escapem\"."
      ]
    },
    {
      "cell_type": "markdown",
      "metadata": {
        "id": "cvdh-bKbRRCm"
      },
      "source": [
        "# Parte 2 - Resolução numérica\n",
        "\n",
        "Nesta parte do enunciado, vamos implementar as funções responsáveis pela resolução dos sistemas lineares com que vamos trabalhar, bem como as funções responsáveis pela implementação do método de Newton."
      ]
    },
    {
      "cell_type": "markdown",
      "metadata": {
        "id": "Bk1WwhLZ4OnQ"
      },
      "source": [
        "## Questão 2.1. Funções para resolução de sistemas lineares\n",
        "\n",
        "## 1.2. - Resolução por eliminação de Gauss\n",
        "\n",
        "Seja $A \\in R^{n \\times n}$ e $\\mathbf{b} \\in R^{n,k}$. Tal sistema pode ser escrito na forma $M=[A,\\mathbf{b}] \\in R^{n,m}$ (onde $m=n+k$) e resolvido pelo método da eliminação de Gauss. Este método se propõe a triangularizar a matriz $M$ através de operações elementares de suas linhas. Supondo que esta matriz já possui entradas nulas nas $(p-1)$ colunas inferiores, nos resta, na etapa $p$, anular sua $(p)$ coluna inferior, fazendo:\n",
        "\n",
        "1. Vamos verificar que $|a_{p,p}|\\neq0$. Se for o caso, vamos trocar a linha $p$ pela próxima linha $q$, tal que $|a_{q,p}|\\neq0$. Questão: o que acontece se esta linha não existir? O que podemos dizer sobre a matriz?\n",
        "2. Supondo $a_{p,p}\\neq0$, calcule os multiplicadores $m_{i,p} = a_{i,p} / a_{p,p}$.\n",
        "3. Realize as operações elementares nas linhas: $L_{i} \\leftarrow L_i - m_{i,p} L_{p}$. Os termos $a_{i,p}$ da nova linha $L_i$ deverão ser zero.\n",
        "4. Nestes elementos, vamos armazenar $m_{i,p}$\n",
        "5. Volte ao passo 1.\n"
      ]
    },
    {
      "cell_type": "markdown",
      "source": [
        "### Questão 2.1.a\n",
        "Dada uma matriz $M \\in R^{n,m}$ e dois números inteiros $p,q$, implemente uma função que permute as linhas $L_p$ com $L_q$\n",
        "\n",
        "**Resposta:**\n"
      ],
      "metadata": {
        "id": "r7s-MtJtceQR"
      }
    },
    {
      "cell_type": "code",
      "source": [
        "def permutacao_matrix(M, p, q):\n",
        "  \"\"\"\n",
        "  Permuta as linhas \"p\" e \"q\" da matriz \"M\"\n",
        "\n",
        "  Entradas:\n",
        "  - M: Matrix R^{m,n}\n",
        "  - p,q: indices das linhas a serem permutadas\n",
        "\n",
        "  Saídas:\n",
        "  - M_perm: matriz cujas linhas foram permutadas\n",
        "  \"\"\"\n",
        "\n",
        "  Lp = ##\n",
        "  Lq = ##\n",
        "  M_perm = np.copy(M)\n",
        "\n",
        "  return M_perm"
      ],
      "metadata": {
        "id": "yn9mwnruMCPm"
      },
      "execution_count": null,
      "outputs": []
    },
    {
      "cell_type": "markdown",
      "source": [
        "### Questão 2.1.b\n",
        "Dada uma matriz $M \\in R^{n,m}$, dois números inteiros $i,p$, e um número $m$, implemente uma função que realize $L_i \\leftarrow L_i - m L_p$.\n",
        "\n",
        "**Resposta:**"
      ],
      "metadata": {
        "id": "0Ge3ZgRvhCMB"
      }
    },
    {
      "cell_type": "code",
      "source": [
        "def op_elem_matrix(M, i, p, m):\n",
        "  \"\"\"\n",
        "  Realiza a operação elementar L_i <- L_i - m * L_p\n",
        "\n",
        "  Entradas:\n",
        "  - M: Matrix R^{m,n}\n",
        "  - p: indice da linha usada para anular a linha \"L_i\" (base)\n",
        "  - i: Indice da linha (\"L_i\") cujo  a serem permutadas (alvo)\n",
        "\n",
        "  Saídas:\n",
        "  - M_modif: matriz modificada\n",
        "  \"\"\"\n",
        "\n",
        "  Lp = ##\n",
        "  Li = ##\n",
        "  M_modif[i,:] = ##\n",
        "\n",
        "  return M_modif"
      ],
      "metadata": {
        "id": "vMb8J0yqL-Nw"
      },
      "execution_count": null,
      "outputs": []
    },
    {
      "cell_type": "markdown",
      "source": [
        "### Questão 2.1.c.\n",
        "Escreva uma função que realiza a eliminação Gaussiana, conforme o algoritmo apresentado acima.\n",
        "\n",
        "**Resposta:**"
      ],
      "metadata": {
        "id": "wzxBbHOhotJz"
      }
    },
    {
      "cell_type": "code",
      "source": [
        "def el_Gaussiana(M,verbosity):\n",
        "  \"\"\"\n",
        "  Realiza a eliminação Gaussiana na matriz M \"m x n\"\n",
        "  Vamos armazenar tambem os multiplicadores\n",
        "\n",
        "  Entradas:\n",
        "  - M: Matrix R^{m,n}\n",
        "  - verbosity: parametro de verbosidade (meramente cosmético):\n",
        "      se for = 1: exibe as operações efetuadas no processo (facilita na correção)\n",
        "      se for = 0: não exibe nada\n",
        "\n",
        "  Saídas:\n",
        "  - M_modif: matriz triangular (triangulo inferior com multiplicadores)\n",
        "  \"\"\"\n",
        "\n",
        "  (n,m) = M.shape\n",
        "\n",
        "  # tolerancia para tomarmos um valor como \"zero\"\n",
        "  tol = 1.e-8\n",
        "\n",
        "  for p in range(0,n):\n",
        "\n",
        "      if verbosity==1:\n",
        "        print(\" \")\n",
        "        print(\"-----------------------------------------------\")\n",
        "        print(\"-----------------------------------------------\")\n",
        "        print(\"Na etapa \"+str(p)+\" , a matriz M é : \")\n",
        "        print(str(M))\n",
        "\n",
        "    # Verificmos se o pivo e nulo. Se sim, realizamos permutacao de linhas\n",
        "    if abs(M[p,p]) < tol:\n",
        "      # Vamos trocar a linha com a próxima, tal que seu pivô seja não-nulo\n",
        "\n",
        "\n",
        "    for q in range(p+1,n):\n",
        "      m = ## multiplicador\n",
        "      M_new = ##\n",
        "      M = np.copy(M_new)\n",
        "\n",
        "    if verbosity==1:\n",
        "      print(\" \")\n",
        "      print(\"Na etapa \"+str(p)+\" , a eliminacao de Gauss resulta em:\")\n",
        "      print(str(M))\n",
        "\n",
        "  return M"
      ],
      "metadata": {
        "id": "TyrLlazsL3aL"
      },
      "execution_count": null,
      "outputs": []
    },
    {
      "cell_type": "markdown",
      "source": [
        "### Questão 2.1.d\n",
        "Escreva uma função que resolve um sistema na forma\n",
        "\n",
        "$$\n",
        "U x = d\n",
        "$$\n",
        "\n",
        "onde $U$ é uma matriz triangular superior.\n",
        "Utilize esta função para encontrar a solução do sistema correspondente ao circuito elétrico apresentado.\n",
        "\n",
        "Vamos testar as funções e metodos implementados na matriz (já apresentada em sala de aula):\n",
        "\n",
        "$$\n",
        "M = \\begin{pmatrix}\n",
        "1 & 4 & 52 & 57 \\\\\n",
        "27 & 110 & -3 & 134 \\\\\n",
        "22 & 2 & 14 & 38 \\\\\n",
        "\\end{pmatrix}\n",
        "$$\n"
      ],
      "metadata": {
        "id": "LjfJdK28sK0i"
      }
    },
    {
      "cell_type": "code",
      "source": [
        "def res_triangular_superior(U,d):\n",
        "  \"\"\"\n",
        "  Resolve o sistema, suposto triangular superior, U x = d\n",
        "\n",
        "  Entradas:\n",
        "  - U: Matriz R^{n,n}\n",
        "  - d: Matriz R^{n,k}\n",
        "\n",
        "  Saídas:\n",
        "  - x: Matriz de solucao, R^{n,k} (um poara cada coluna em \"d\")\n",
        "  \"\"\"\n",
        "\n",
        "  x   = np.copy(d)\n",
        "  rhs = np.copy(x)\n",
        "\n",
        "  (n,k) = d.shape\n",
        "\n",
        "  for l in range(0,k):\n",
        "      for i in range(n-1,-1,-1):\n",
        "          # vamos calcular o termo forcante (rhs, \"right-hand-side\")\n",
        "          rhs[i,l] = ##\n",
        "\n",
        "          # em seguida, vamos calcular a solução\n",
        "          x[i,l] = ##\n",
        "\n",
        "  print(\"A matriz-solucao e: \")\n",
        "  print(str(x))\n",
        "\n",
        "  print(\"Seu residuo (para o sistema Ux=d) é:\")\n",
        "  res = np.copy(x)\n",
        "  res = ##\n",
        "  print(str(res))\n",
        "\n",
        "  return x\n",
        "\n",
        "## Teste numérico --------------------------------------\n",
        "## Resolucao do sistema\n",
        "M = [[1 ,4. ,57,57 ],\n",
        "     [27,110,-3,134],\n",
        "     [22,2. ,14,39 ]];\n",
        "\n",
        "print(\" \")\n",
        "print(\" \")\n",
        "print(\" \")\n",
        "print(\" Eliminacao de Gauss\")\n",
        "print(\"-----------------------------------------------\")\n",
        "print(\"-----------------------------------------------\")\n",
        "Ud = el_Gaussiana(M,1)\n",
        "\n",
        "print(\" Resolucao\")\n",
        "print(\"-----------------------------------------------\")\n",
        "print(\"-----------------------------------------------\")\n",
        "U = Ud[0:n,0:n]\n",
        "d = Ud[0:n,n:m]\n",
        "x = res_triangular_superior(U,d)\n",
        "\n",
        "print(\"Seu residuo (para o sistema Ax=b) é:\")\n",
        "res = np.matmul(A,np.array(x)) - b.reshape(n,1)\n",
        "print(str(res))"
      ],
      "metadata": {
        "id": "Axf_8_o6oryj"
      },
      "execution_count": null,
      "outputs": []
    },
    {
      "cell_type": "markdown",
      "metadata": {
        "id": "43M7oVwWLAtB"
      },
      "source": [
        "## Questão 2.2. Resolução por eliminação de Gauss com condensação pivotal (parcial)\n",
        "\n",
        "Seja $A \\in R^{n \\times n}$, $\\mathbf{b} \\in R^{n,k}$ e $M=[A,\\mathbf{b}] \\in R^{n,m}$, tais como anteriormente. A eliminação Gaussiana, com condensação pivotal, resulta em um metodo bastante similar ao anterior, onde dada uma matriz cujas $(p-1)$ colunas inferiores já foram anuladas, fazemos:\n",
        "\n",
        "1. (Condensação Pivotal) Vamos identificar nas linhas $q>p$ o maior elemento, em módulo, $|a_{q,p}| \\geq |a_{p,p}|, \\forall q\\geq p$. Em seguida, vamos trocar as linhas $L_q$ e $L_p$. Vamos também armazenar as trocas de linhas num vetor de permutação.\n",
        "2. Supondo $a_{p,p}\\neq0$, calcule os multiplicadores $m_{i,p} = a_{i,p} / a_{p,p}$.\n",
        "\n",
        "Pergunta: Neste caso, o que acontece se $a_{p,p}=0$?\n",
        "\n",
        "3. Realize as operações elementares nas linhas: $L_{i} \\leftarrow m_{i,p} L_{p}$. Os termos $a_{i,p}$ da nova linha $L_i$ deverão ser zero.\n",
        "4. Nestes elementos, vamos armazenar $m_{i,p}$\n",
        "5. Volte ao passo 1."
      ]
    },
    {
      "cell_type": "markdown",
      "source": [
        "### Questão 2.2\n",
        "Implemente a eliminação Gaussiana com Condensação Pivotal.\n",
        "\n",
        "**Resposta:**"
      ],
      "metadata": {
        "id": "ynIIVt5xtObO"
      }
    },
    {
      "cell_type": "code",
      "source": [
        "def el_Gaussiana_CP(M,vp,verbosity):\n",
        "  \"\"\"\n",
        "  Realiza a eliminação Gaussiana, com Condensacao Pivotal (parcial),\n",
        "  na matriz M \"m x n\"\n",
        "  Vamos armazenar tambem os multiplicadores\n",
        "\n",
        "  Entradas:\n",
        "  - M: Matrix R^{m,n}\n",
        "  - vp: vetor permutação, a ser modificado internamente\n",
        "  - verbosity: parametro de verbosidade (meramente cosmético):\n",
        "      se for = 1: exibe as operações efetuadas no processo (facilita na correção)\n",
        "      se for = 0: não exibe nada\n",
        "\n",
        "  Saídas:\n",
        "  - M_modif: matriz triangular (triangulo inferior com multiplicadores)\n",
        "  \"\"\"\n",
        "\n",
        "  (n,m) = M.shape\n",
        "  M0 = np.copy(M)\n",
        "\n",
        "  # tolerancia para tomarmos um valor como \"zero\"\n",
        "  tol = 1.e-8\n",
        "\n",
        "  for p in range(0,n):\n",
        "\n",
        "    if verbosity==1:\n",
        "      print(\" \")\n",
        "      print(\"-----------------------------------------------\")\n",
        "      print(\"-----------------------------------------------\")\n",
        "      print(\"Na etapa \"+str(p)+\" , a matriz M é : \")\n",
        "      print(str(M))\n",
        "\n",
        "    # Trocamos as linhas para que o pivo seja o de maior modulo\n",
        "    appMax = ##\n",
        "    lMax   = ##\n",
        "\n",
        "    M_new = ##\n",
        "    if verbosity==1:\n",
        "      print(\" \")\n",
        "      print(\"Na etapa \"+str(p)+\" , realizamos permutacao das linhas \"+str(l)+\" e \"+str(p)+\" :\")\n",
        "    #print(str(M_new))\n",
        "    M = np.copy(M_new)\n",
        "\n",
        "    for q in range(p+1,n):\n",
        "      m = ##\n",
        "      M_new = ##\n",
        "      M = np.copy(M_new)\n",
        "\n",
        "    if verbosity==1:\n",
        "      print(\" \")\n",
        "      print(\"Na etapa \"+str(p)+\" , a eliminacao de Gauss resulta em:\")\n",
        "      print(str(M))\n",
        "\n",
        "  return M\n",
        "\n",
        "## Resolucao do sistema\n",
        "print(\" \")\n",
        "print(\" \")\n",
        "print(\" \")\n",
        "print(\" Eliminacao de Gauss (CP)\")\n",
        "print(\"-----------------------------------------------\")\n",
        "print(\"-----------------------------------------------\")\n",
        "vp = [i for i in range(0,len(M))]\n",
        "UdCP = el_Gaussiana_CP(M,1)\n",
        "\n",
        "print(\" Resolucao\")\n",
        "print(\"-----------------------------------------------\")\n",
        "print(\"-----------------------------------------------\")\n",
        "UCP = UdCP[0:n,0:n]\n",
        "dCP = UdCP[0:n,n:m]\n",
        "xCP = res_triangular_superior(UCP,dCP)\n",
        "\n",
        "print(\"Seu residuo (para o sistema Ax=b) é:\")\n",
        "res = np.copy(xCP)\n",
        "res = np.matmul(A,xCP) - b.reshape(n,1)\n",
        "print(str(res))"
      ],
      "metadata": {
        "id": "IOGLSZTQt7ON"
      },
      "execution_count": null,
      "outputs": []
    },
    {
      "cell_type": "markdown",
      "metadata": {
        "id": "peOfUs25do0q"
      },
      "source": [
        "## Questão 2.3. Funções para o método de Newton\n",
        "\n",
        "Antes de começarmos a implementar as funções para o método de Newton, vamos implementar algumas outras funções intermediárias que organizem e estruturem o código. Escreva três funções que recebem como entrada o valor de duas cargas, $q_i,q_j$, bem como a distância entre elas $x_j-x_i$ e retorne:\n",
        "\n",
        "1. O valor da energia potencial eletrostática associada\n",
        "$$ U_{ij}(x_j-x_i) $$\n",
        "2. A sua derivada\n",
        "$$ \\frac{\\partial U_{ij}}{\\partial r} (x_j-x_i) $$\n",
        "3. Sua segunda derivada\n",
        "$$ \\frac{\\partial^2 U_{ij}}{\\partial r^2} (x_j-x_i) $$\n",
        "\n",
        "Vamos agora implementar as funções para o metodo de Newton, que recebem um vetor contendo as posições de todas as cargas interiores ao tubo:\n",
        "\n",
        "$$ \\mathbf{x} = (x_1,\\cdots,x_n) $$\n",
        "\n",
        "e retorne:\n",
        "\n",
        "4. A energia potencial eletrostática total (equação 9)\n",
        "5. O seu gradiente, $\\nabla_{\\mathbf{x}} V$\n",
        "6. A matriz Hessiana, $H = \\nabla_{\\mathbf{x}} \\nabla_{\\mathbf{x}} V$\n",
        "\n",
        "Note que, para todas estas funções, as cargas de cada uma das partículas foi definida como variável global, e não serão passadas como argumento nas funções.\n",
        "\n",
        "Além disso, elas serão dadas em função do Número USP de cada aluno. Teremos, ao total oito cargas internas, cada uma igual a cada dígito do NUSP acrescida de 50. Assim sendo, um aluno com NUSP 12345678 terá como cargas:\n",
        "\n",
        "$$ q_1 = 1+50 = 51 $$\n",
        "$$ q_2 = 2+50 = 52$$\n",
        "$$ \\cdots$$\n",
        "$$ q_7 = 7+50=57 $$\n",
        "$$ q_8 = 8+50=58 $$\n",
        "\n",
        "Além disso, vamos fixar $q_0=50$ e $q_9=50$\n"
      ]
    },
    {
      "cell_type": "code",
      "execution_count": null,
      "metadata": {
        "id": "Bi3a0k5wBxDR"
      },
      "outputs": [],
      "source": [
        "# Cargas internas\n",
        "q  = [(NUSP[i]+50) for i in range(0,len(NUSP))]\n",
        "# Cargas internas + extremidades\n",
        "qq = [50] + q + [50]\n",
        "\n",
        "# constante para energia potencial eletrostatica (irrelevante)\n",
        "k  = 1.\n",
        "\n",
        "# comprimento do tubo\n",
        "L  = 1.\n",
        "\n",
        "def fUij(qi,qj,dij):\n",
        "    return # .... completar\n",
        "\n",
        "def fdUij(qi,qj,dij):\n",
        "    return # .... completar\n",
        "\n",
        "def fd2Uij(qi,qj,dij):\n",
        "    return # .... completar\n",
        "\n",
        "def fV(x):\n",
        "  return # .... completar\n",
        "\n",
        "def fdV(x):\n",
        "  return # .... completar\n",
        "\n",
        "def fd2V(x):\n",
        "  return # .... completar"
      ]
    },
    {
      "cell_type": "markdown",
      "metadata": {
        "id": "cC_5OCNjF1EF"
      },
      "source": [
        "## Questão 2.3. Resolução do Problema físico pelo Método de Newton\n",
        "\n",
        "Vamos agora implementar as iterações sucessivas, correspondendo ao método de Newton.\n",
        "Para isso, pede-se:\n",
        "\n",
        "1. Escreva uma \"condição inicial\" para o método de Newton, $\\mathbf{x}_0$, em que as cargas estão equidistantes.\n",
        "2. Complete o laço das iterações do metodo de Newton, que deve conter:\n",
        "\n",
        "a) A avaliação da energia potencial eletrostática\n",
        "\n",
        "b) A avaliação de $\\nabla_{\\mathbf{x}} V$. Se este vetor for nulo, então as forcas resultantes em cada partícula é nula, e teremos encontrado o ponto de equilíbrio. A partir deste cálculo, vamos, portanto, estabelecer o critério de parada onde, se:\n",
        "$$|| \\nabla_{\\mathbf{x}} V || < ɛ $$\n",
        "o processo iterativo é interrompido. Vamos assumir aqui $ɛ=10^{-8}$\n",
        "\n",
        "c) A avaliação da matriz Hessiana $\\nabla_{\\mathbf{x}} \\nabla_{\\mathbf{x}} V$\n",
        "\n",
        "c) A inversão do sistema linear dado pela equação (6), e a atualização da aproximação, dada pela equação (7)\n",
        "\n",
        " **Resposta:**"
      ]
    },
    {
      "cell_type": "markdown",
      "metadata": {
        "id": "d4kOQ6KV0FSF"
      },
      "source": []
    },
    {
      "cell_type": "code",
      "execution_count": null,
      "metadata": {
        "collapsed": true,
        "id": "UdYgwhOqKF38",
        "colab": {
          "base_uri": "https://localhost:8080/",
          "height": 645
        },
        "outputId": "e57d645d-7afd-403c-9495-8544b0ef68d1"
      },
      "outputs": [
        {
          "output_type": "stream",
          "name": "stdout",
          "text": [
            "V : 236412.0, norma de dV : 40223.33099085646\n",
            "V : 236046.4555232533, norma de dV : 4489.957715690252\n",
            "V : 236033.86251924504, norma de dV : 333.12797621900114\n",
            "V : 236033.79848096723, norma de dV : 45.166851102750066\n",
            "V : 236033.7969217913, norma de dV : 7.010222967181318\n",
            "V : 236033.79688281467, norma de dV : 1.123299582964722\n",
            "V : 236033.79688180742, norma de dV : 0.18053101527011509\n",
            "V : 236033.7968817814, norma de dV : 0.02903514778646028\n",
            "V : 236033.79688178073, norma de dV : 0.004670092468084911\n",
            "V : 236033.79688178073, norma de dV : 0.0007511643114767651\n",
            "V : 236033.79688178067, norma de dV : 0.00012082180297710812\n",
            "V : 236033.79688178067, norma de dV : 1.9433697660622803e-05\n",
            "V : 236033.7968817807, norma de dV : 3.12581824351696e-06\n",
            "V : 236033.7968817807, norma de dV : 5.027582559884986e-07\n",
            "V : 236033.79688178073, norma de dV : 8.089354572218544e-08\n",
            "V : 236033.79688178073, norma de dV : 1.304848419397955e-08\n"
          ]
        },
        {
          "output_type": "display_data",
          "data": {
            "text/plain": [
              "<Figure size 1500x500 with 2 Axes>"
            ],
            "image/png": "[encoded data removed]"
          },
          "metadata": {}
        }
      ],
      "source": [
        "# Tolerância e número máximo de iterações (Newton)\n",
        "eps = 1e-8\n",
        "nitermax = 100\n",
        "\n",
        "V  = []\n",
        "x  = []\n",
        "x0 = # .... completar\n",
        "x.append(x0)\n",
        "\n",
        "## início das iterações por Newton\n",
        "fig    = plt.figure(figsize=(15,5))\n",
        "gs     = GridSpec(1, 2, figure=fig)\n",
        "ax1    = fig.add_subplot(gs[0, 0])\n",
        "ax2    = fig.add_subplot(gs[0, 1])\n",
        "\n",
        "for it in range(0,nitermax):\n",
        "  # Calcule aqui o V\n",
        "  V.append( fV(x[it]) )\n",
        "\n",
        "  xx     = [0] + x[it] + [L]\n",
        "  ax1.scatter(xx, np.zeros(len(xx))+it,marker='o',s=20,color=\"blue\")\n",
        "  ax1.set_xlim([-0.1, L+0.1])\n",
        "  ax1.set_xlabel('x')\n",
        "  ax1.set_ylabel('iter')\n",
        "  ax2.scatter([V[it]], [it],marker='o',s=20,color=\"red\",label=\"V\")\n",
        "  ax2.set_xlabel('V')\n",
        "\n",
        "  # Calcule aqui dV\n",
        "  dV = fdV(x[it])\n",
        "  normadV = ..... # completar!!\n",
        "  if normadV < eps:\n",
        "    break;\n",
        "\n",
        "  print(\"V : \"+str(V[it])+\", norma de dV : \"+str(normadV))\n",
        "\n",
        "  # Calcule aqui d2V\n",
        "  d2V = fd2V(x[it])\n",
        "\n",
        "  # Calcule aqui o novo vetor\n",
        "  # Completar!!!!\n",
        "  Ud = el_Gaussiana(....,0) # .... completar\n",
        "  dx = res_triangular_superior(.... , ....) # .... completar\n",
        "\n",
        "  xnew = .... # completar!!!\n",
        "  x.append(xnew);\n"
      ]
    }
  ],
  "metadata": {
    "colab": {
      "provenance": [],
      "toc_visible": true
    },
    "kernelspec": {
      "display_name": "Python 3",
      "name": "python3"
    },
    "language_info": {
      "name": "python"
    }
  },
  "nbformat": 4,
  "nbformat_minor": 0
}